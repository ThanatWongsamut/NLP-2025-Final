{
 "cells": [
  {
   "cell_type": "code",
   "execution_count": 2,
   "metadata": {},
   "outputs": [],
   "source": [
    "import pandas as pd\n",
    "\n",
    "# reasoning_predictions = ['qmsum_predictions_qwq.csv', 'qmsum_predictions_deepseek-r1:32b.csv']\n",
    "reasoning_predictions = ['test_deepseek-r1:32b.csv', 'test_qwq.csv']\n",
    "reasoning_predictions = [f'./predictions/{p}' for p in reasoning_predictions]\n",
    "\n",
    "def parse(pred_str: str) -> str:\n",
    "    # Extract content after </think>\n",
    "    try:\n",
    "        pred_str = pred_str.split('</think>', 1)[1].strip()\n",
    "    except IndexError:\n",
    "        # If </think> is not found, return the original string or an empty string\n",
    "        return pred_str.strip()  # or return \"\" if you want to discard unparseable input\n",
    "\n",
    "    # Further cleanup: remove enclosing quotes, extra whitespace, or tags if needed\n",
    "    pred_str = pred_str.strip('\"').strip(\"'\").strip()\n",
    "\n",
    "    return pred_str\n",
    "\n",
    "\n",
    "for pred in reasoning_predictions:\n",
    "    df = pd.read_csv(pred)\n",
    "    df['predicted_answer'] = df['predicted_answer'].apply(parse)\n",
    "    # Save the modified DataFrame to a CSV file\n",
    "    df.to_csv(pred, index=False)"
   ]
  }
 ],
 "metadata": {
  "kernelspec": {
   "display_name": "nlp",
   "language": "python",
   "name": "python3"
  },
  "language_info": {
   "codemirror_mode": {
    "name": "ipython",
    "version": 3
   },
   "file_extension": ".py",
   "mimetype": "text/x-python",
   "name": "python",
   "nbconvert_exporter": "python",
   "pygments_lexer": "ipython3",
   "version": "3.10.16"
  }
 },
 "nbformat": 4,
 "nbformat_minor": 2
}
