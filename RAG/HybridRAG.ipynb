{
  "nbformat": 4,
  "nbformat_minor": 0,
  "metadata": {
    "colab": {
      "provenance": [],
      "gpuType": "T4",
      "toc_visible": true
    },
    "kernelspec": {
      "name": "python3",
      "display_name": "Python 3"
    },
    "language_info": {
      "name": "python"
    },
    "accelerator": "GPU"
  },
  "cells": [
    {
      "cell_type": "markdown",
      "source": [
        "# Semantic chunking and Hybrid RAG"
      ],
      "metadata": {
        "id": "VBhTq0oP-XTa"
      }
    },
    {
      "cell_type": "code",
      "source": [
        "!nvcc --version"
      ],
      "metadata": {
        "colab": {
          "base_uri": "https://localhost:8080/"
        },
        "id": "-yG1QZLmMd0U",
        "outputId": "1a00aab1-f92a-4ed5-f592-8ec7c99b5b01"
      },
      "execution_count": 1,
      "outputs": [
        {
          "output_type": "stream",
          "name": "stdout",
          "text": [
            "nvcc: NVIDIA (R) Cuda compiler driver\n",
            "Copyright (c) 2005-2024 NVIDIA Corporation\n",
            "Built on Thu_Jun__6_02:18:23_PDT_2024\n",
            "Cuda compilation tools, release 12.5, V12.5.82\n",
            "Build cuda_12.5.r12.5/compiler.34385749_0\n"
          ]
        }
      ]
    },
    {
      "cell_type": "code",
      "source": [
        "!pip install faiss-gpu-cu11"
      ],
      "metadata": {
        "colab": {
          "base_uri": "https://localhost:8080/"
        },
        "id": "H1HogaAPMhKp",
        "outputId": "23c4c00b-9520-4805-cdba-837b7dd53fe5"
      },
      "execution_count": 2,
      "outputs": [
        {
          "output_type": "stream",
          "name": "stdout",
          "text": [
            "Requirement already satisfied: faiss-gpu-cu11 in /usr/local/lib/python3.11/dist-packages (1.11.0)\n",
            "Collecting numpy<2 (from faiss-gpu-cu11)\n",
            "  Using cached numpy-1.26.4-cp311-cp311-manylinux_2_17_x86_64.manylinux2014_x86_64.whl.metadata (61 kB)\n",
            "Requirement already satisfied: packaging in /usr/local/lib/python3.11/dist-packages (from faiss-gpu-cu11) (24.2)\n",
            "Requirement already satisfied: nvidia-cuda-runtime-cu11>=11.8.89 in /usr/local/lib/python3.11/dist-packages (from faiss-gpu-cu11) (11.8.89)\n",
            "Requirement already satisfied: nvidia-cublas-cu11>=11.11.3.6 in /usr/local/lib/python3.11/dist-packages (from faiss-gpu-cu11) (11.11.3.6)\n",
            "Using cached numpy-1.26.4-cp311-cp311-manylinux_2_17_x86_64.manylinux2014_x86_64.whl (18.3 MB)\n",
            "Installing collected packages: numpy\n",
            "  Attempting uninstall: numpy\n",
            "    Found existing installation: numpy 2.2.5\n",
            "    Uninstalling numpy-2.2.5:\n",
            "      Successfully uninstalled numpy-2.2.5\n",
            "\u001b[31mERROR: pip's dependency resolver does not currently take into account all the packages that are installed. This behaviour is the source of the following dependency conflicts.\n",
            "thinc 8.3.6 requires numpy<3.0.0,>=2.0.0, but you have numpy 1.26.4 which is incompatible.\u001b[0m\u001b[31m\n",
            "\u001b[0mSuccessfully installed numpy-1.26.4\n"
          ]
        }
      ]
    },
    {
      "cell_type": "markdown",
      "source": [
        "# Download Datasets"
      ],
      "metadata": {
        "id": "uR5l-ldYb_AA"
      }
    },
    {
      "cell_type": "code",
      "source": [
        "import torch\n",
        "import torch.nn as nn\n",
        "import torch.nn.functional as F\n",
        "from torch.utils.data import Dataset\n",
        "from sentence_transformers import SentenceTransformer\n",
        "import json\n",
        "import os\n",
        "import zipfile\n",
        "from tqdm import tqdm\n",
        "import numpy as np\n",
        "import matplotlib.pyplot as plt\n",
        "from typing import List"
      ],
      "metadata": {
        "id": "e6mqO2uJcE8q"
      },
      "execution_count": 1,
      "outputs": []
    },
    {
      "cell_type": "code",
      "source": [
        "zip_path = '/content/QMSum.zip'\n",
        "extract_path = '/content/QMSum'"
      ],
      "metadata": {
        "id": "wie98jc0b-P2"
      },
      "execution_count": 2,
      "outputs": []
    },
    {
      "cell_type": "code",
      "source": [
        "os.makedirs(extract_path, exist_ok=True)\n",
        "with zipfile.ZipFile(zip_path, 'r') as zip_ref:\n",
        "    zip_ref.extractall(extract_path)\n",
        "\n",
        "print(\"Extraction completed.\")"
      ],
      "metadata": {
        "colab": {
          "base_uri": "https://localhost:8080/"
        },
        "id": "BHrsu4zRcHWs",
        "outputId": "779bb7f1-4a33-4015-d2cd-fcfb15723383"
      },
      "execution_count": 3,
      "outputs": [
        {
          "output_type": "stream",
          "name": "stdout",
          "text": [
            "Extraction completed.\n"
          ]
        }
      ]
    },
    {
      "cell_type": "code",
      "source": [
        "QMSum_path = '/content/QMSum/QMSum'"
      ],
      "metadata": {
        "id": "E_kMT_Cdfmrc"
      },
      "execution_count": 4,
      "outputs": []
    },
    {
      "cell_type": "code",
      "source": [
        "files = {\n",
        "    \"train\": [],\n",
        "    \"val\": [],\n",
        "    \"test\": []\n",
        "}\n",
        "\n",
        "for split in files.keys():\n",
        "    for file in os.listdir(f\"{QMSum_path}/data/ALL/{split}\"):\n",
        "        if file.endswith(\".json\"):\n",
        "            files[split].append(f\"{QMSum_path}/data/ALL/{split}/{file}\")"
      ],
      "metadata": {
        "id": "mav_U_Idfny5"
      },
      "execution_count": 5,
      "outputs": []
    },
    {
      "cell_type": "markdown",
      "source": [
        "# Semantic Chunking Datasets"
      ],
      "metadata": {
        "id": "c4MGAJL57IUu"
      }
    },
    {
      "cell_type": "code",
      "source": [
        "!pip install faiss-gpu-cu11\n",
        "!pip install semchunk\n",
        "!pip install tiktoken transformers"
      ],
      "metadata": {
        "colab": {
          "base_uri": "https://localhost:8080/"
        },
        "id": "lHxrjOCttaGC",
        "outputId": "033df832-093b-4098-baab-7e795ed530ee"
      },
      "execution_count": 11,
      "outputs": [
        {
          "output_type": "stream",
          "name": "stdout",
          "text": [
            "Requirement already satisfied: faiss-gpu-cu11 in /usr/local/lib/python3.11/dist-packages (1.11.0)\n",
            "Requirement already satisfied: numpy<2 in /usr/local/lib/python3.11/dist-packages (from faiss-gpu-cu11) (1.26.4)\n",
            "Requirement already satisfied: packaging in /usr/local/lib/python3.11/dist-packages (from faiss-gpu-cu11) (24.2)\n",
            "Requirement already satisfied: nvidia-cuda-runtime-cu11>=11.8.89 in /usr/local/lib/python3.11/dist-packages (from faiss-gpu-cu11) (11.8.89)\n",
            "Requirement already satisfied: nvidia-cublas-cu11>=11.11.3.6 in /usr/local/lib/python3.11/dist-packages (from faiss-gpu-cu11) (11.11.3.6)\n",
            "Collecting semchunk\n",
            "  Downloading semchunk-3.2.1-py3-none-any.whl.metadata (14 kB)\n",
            "Collecting mpire[dill] (from semchunk)\n",
            "  Downloading mpire-2.10.2-py3-none-any.whl.metadata (14 kB)\n",
            "Requirement already satisfied: tqdm in /usr/local/lib/python3.11/dist-packages (from semchunk) (4.67.1)\n",
            "Requirement already satisfied: pygments>=2.0 in /usr/local/lib/python3.11/dist-packages (from mpire[dill]->semchunk) (2.19.1)\n",
            "Collecting multiprocess>=0.70.15 (from mpire[dill]->semchunk)\n",
            "  Downloading multiprocess-0.70.18-py311-none-any.whl.metadata (7.5 kB)\n",
            "Collecting dill>=0.4.0 (from multiprocess>=0.70.15->mpire[dill]->semchunk)\n",
            "  Downloading dill-0.4.0-py3-none-any.whl.metadata (10 kB)\n",
            "Downloading semchunk-3.2.1-py3-none-any.whl (13 kB)\n",
            "Downloading multiprocess-0.70.18-py311-none-any.whl (144 kB)\n",
            "\u001b[2K   \u001b[90m━━━━━━━━━━━━━━━━━━━━━━━━━━━━━━━━━━━━━━━━\u001b[0m \u001b[32m144.5/144.5 kB\u001b[0m \u001b[31m7.0 MB/s\u001b[0m eta \u001b[36m0:00:00\u001b[0m\n",
            "\u001b[?25hDownloading mpire-2.10.2-py3-none-any.whl (272 kB)\n",
            "\u001b[2K   \u001b[90m━━━━━━━━━━━━━━━━━━━━━━━━━━━━━━━━━━━━━━━━\u001b[0m \u001b[32m272.8/272.8 kB\u001b[0m \u001b[31m19.2 MB/s\u001b[0m eta \u001b[36m0:00:00\u001b[0m\n",
            "\u001b[?25hDownloading dill-0.4.0-py3-none-any.whl (119 kB)\n",
            "\u001b[2K   \u001b[90m━━━━━━━━━━━━━━━━━━━━━━━━━━━━━━━━━━━━━━━━\u001b[0m \u001b[32m119.7/119.7 kB\u001b[0m \u001b[31m12.3 MB/s\u001b[0m eta \u001b[36m0:00:00\u001b[0m\n",
            "\u001b[?25hInstalling collected packages: mpire, dill, multiprocess, semchunk\n",
            "Successfully installed dill-0.4.0 mpire-2.10.2 multiprocess-0.70.18 semchunk-3.2.1\n",
            "Collecting tiktoken\n",
            "  Downloading tiktoken-0.9.0-cp311-cp311-manylinux_2_17_x86_64.manylinux2014_x86_64.whl.metadata (6.7 kB)\n",
            "Requirement already satisfied: transformers in /usr/local/lib/python3.11/dist-packages (4.51.3)\n",
            "Requirement already satisfied: regex>=2022.1.18 in /usr/local/lib/python3.11/dist-packages (from tiktoken) (2024.11.6)\n",
            "Requirement already satisfied: requests>=2.26.0 in /usr/local/lib/python3.11/dist-packages (from tiktoken) (2.32.3)\n",
            "Requirement already satisfied: filelock in /usr/local/lib/python3.11/dist-packages (from transformers) (3.18.0)\n",
            "Requirement already satisfied: huggingface-hub<1.0,>=0.30.0 in /usr/local/lib/python3.11/dist-packages (from transformers) (0.30.2)\n",
            "Requirement already satisfied: numpy>=1.17 in /usr/local/lib/python3.11/dist-packages (from transformers) (1.26.4)\n",
            "Requirement already satisfied: packaging>=20.0 in /usr/local/lib/python3.11/dist-packages (from transformers) (24.2)\n",
            "Requirement already satisfied: pyyaml>=5.1 in /usr/local/lib/python3.11/dist-packages (from transformers) (6.0.2)\n",
            "Requirement already satisfied: tokenizers<0.22,>=0.21 in /usr/local/lib/python3.11/dist-packages (from transformers) (0.21.1)\n",
            "Requirement already satisfied: safetensors>=0.4.3 in /usr/local/lib/python3.11/dist-packages (from transformers) (0.5.3)\n",
            "Requirement already satisfied: tqdm>=4.27 in /usr/local/lib/python3.11/dist-packages (from transformers) (4.67.1)\n",
            "Requirement already satisfied: fsspec>=2023.5.0 in /usr/local/lib/python3.11/dist-packages (from huggingface-hub<1.0,>=0.30.0->transformers) (2025.3.2)\n",
            "Requirement already satisfied: typing-extensions>=3.7.4.3 in /usr/local/lib/python3.11/dist-packages (from huggingface-hub<1.0,>=0.30.0->transformers) (4.13.2)\n",
            "Requirement already satisfied: charset-normalizer<4,>=2 in /usr/local/lib/python3.11/dist-packages (from requests>=2.26.0->tiktoken) (3.4.1)\n",
            "Requirement already satisfied: idna<4,>=2.5 in /usr/local/lib/python3.11/dist-packages (from requests>=2.26.0->tiktoken) (3.10)\n",
            "Requirement already satisfied: urllib3<3,>=1.21.1 in /usr/local/lib/python3.11/dist-packages (from requests>=2.26.0->tiktoken) (2.4.0)\n",
            "Requirement already satisfied: certifi>=2017.4.17 in /usr/local/lib/python3.11/dist-packages (from requests>=2.26.0->tiktoken) (2025.4.26)\n",
            "Downloading tiktoken-0.9.0-cp311-cp311-manylinux_2_17_x86_64.manylinux2014_x86_64.whl (1.2 MB)\n",
            "\u001b[2K   \u001b[90m━━━━━━━━━━━━━━━━━━━━━━━━━━━━━━━━━━━━━━━━\u001b[0m \u001b[32m1.2/1.2 MB\u001b[0m \u001b[31m24.0 MB/s\u001b[0m eta \u001b[36m0:00:00\u001b[0m\n",
            "\u001b[?25hInstalling collected packages: tiktoken\n",
            "Successfully installed tiktoken-0.9.0\n"
          ]
        }
      ]
    },
    {
      "cell_type": "code",
      "source": [
        "from sklearn.feature_extraction.text import TfidfVectorizer\n",
        "from typing import Dict, List, Tuple\n",
        "import scipy.sparse as sp\n",
        "import semchunk"
      ],
      "metadata": {
        "id": "2yq9Mjz7gVJW"
      },
      "execution_count": 16,
      "outputs": []
    },
    {
      "cell_type": "code",
      "source": [
        "class SemEmbDatasets(Dataset):\n",
        "    def __init__(self, json_files: List[str], encoder, chunker):\n",
        "        self.data = []  # store each example here\n",
        "        self.encoder = encoder\n",
        "        self.chunker = chunker\n",
        "\n",
        "        for json_file in json_files:\n",
        "            file_info = self._load_json(json_file)\n",
        "            self.data.append(file_info)\n",
        "\n",
        "    def _load_json(self, json_file):\n",
        "        with open(json_file, 'r') as f:\n",
        "            data = json.load(f)\n",
        "\n",
        "        # chunk and encode the utterances\n",
        "        utterances = [f\"{i} {t['speaker']}: {t['content']}\" for i,t in enumerate(data['meeting_transcripts'])]\n",
        "        utterances_chunks = self.chunker(\"\\n\".join(utterances))\n",
        "        embedded_chunks = {}\n",
        "        sentence_ind = 0\n",
        "        for chunk in utterances_chunks:\n",
        "          chunk_len = len(chunk.split(\"\\n\"))\n",
        "          emb = self.encoder.encode(chunk, convert_to_numpy=True, normalize_embeddings=True)\n",
        "          emb = np.ascontiguousarray(emb.reshape(1, -1), dtype='float32')\n",
        "          embedded_chunks[(sentence_ind, sentence_ind + chunk_len)] = emb\n",
        "          sentence_ind += chunk_len\n",
        "\n",
        "        questions = []\n",
        "\n",
        "        for item in data['specific_query_list']:\n",
        "            query = item['query']\n",
        "            embedded_query = self.encoder.encode(query, convert_to_numpy=True, normalize_embeddings=True)\n",
        "            embedded_query = np.ascontiguousarray(embedded_query.reshape(1, -1), dtype='float32')\n",
        "\n",
        "            spans = item['relevant_text_span']\n",
        "            labels = [0] * len(utterances)\n",
        "\n",
        "            for span in spans:\n",
        "                start, end = int(span[0]), int(span[1])\n",
        "                for i in range(start, end + 1):\n",
        "                    labels[i] = 1\n",
        "\n",
        "            labels = torch.tensor(labels, dtype=torch.float32)\n",
        "\n",
        "            relevant_sentence = [utt for utt, label in zip(utterances, labels) if label == 1.0]\n",
        "\n",
        "            questions.append({\n",
        "                'query': query,\n",
        "                'embedded_query': embedded_query,\n",
        "                'labels': labels,\n",
        "            })\n",
        "\n",
        "        file_info = {\n",
        "            \"utterances\": utterances,\n",
        "            \"utterances_chunks\": utterances_chunks,\n",
        "            \"embedded_chunks\": embedded_chunks,\n",
        "            \"questions\": questions\n",
        "        }\n",
        "        return file_info\n",
        "\n",
        "    def __len__(self):\n",
        "        return len(self.data)\n",
        "\n",
        "    def __getitem__(self, idx):\n",
        "        item = self.data[idx]\n",
        "        return {\n",
        "            'utterances': item['utterances'],\n",
        "            'utterances_chunks': item['utterances_chunks'],\n",
        "            'embedded_chunks': item['embedded_chunks'],\n",
        "            'questions': item['questions']\n",
        "        }"
      ],
      "metadata": {
        "id": "X7gsGnwf5OSY"
      },
      "execution_count": 65,
      "outputs": []
    },
    {
      "cell_type": "code",
      "source": [
        "def load_datasets(files, encoder, chunker):\n",
        "  print(\"Datasets are loading...\")\n",
        "  train_dataset = SemEmbDatasets(files['train'], encoder, chunker)\n",
        "  val_dataset = SemEmbDatasets(files['val'], encoder, chunker)\n",
        "  test_dataset = SemEmbDatasets(files['test'], encoder, chunker)\n",
        "\n",
        "  print(f\"Train dataset size: {len(train_dataset)}\")\n",
        "  print(f\"Validation dataset size: {len(val_dataset)}\")\n",
        "  print(f\"Test dataset size: {len(test_dataset)}\")\n",
        "  return train_dataset, val_dataset, test_dataset"
      ],
      "metadata": {
        "id": "82hh87jE7erS"
      },
      "execution_count": 75,
      "outputs": []
    },
    {
      "cell_type": "markdown",
      "source": [
        "# Hybrid RAG\n",
        "Dense retrieval (co-sine similarity) + BM25"
      ],
      "metadata": {
        "id": "33-N9-i9qCzf"
      }
    },
    {
      "cell_type": "code",
      "source": [
        "!pip install rank_bm25"
      ],
      "metadata": {
        "colab": {
          "base_uri": "https://localhost:8080/"
        },
        "id": "H2cvVo0lqO8l",
        "outputId": "6cdbee41-55e0-4701-c772-1bb24785da4a"
      },
      "execution_count": 22,
      "outputs": [
        {
          "output_type": "stream",
          "name": "stdout",
          "text": [
            "Requirement already satisfied: rank_bm25 in /usr/local/lib/python3.11/dist-packages (0.2.2)\n",
            "Requirement already satisfied: numpy in /usr/local/lib/python3.11/dist-packages (from rank_bm25) (2.2.5)\n"
          ]
        }
      ]
    },
    {
      "cell_type": "code",
      "source": [
        "import numpy as np\n",
        "import torch\n",
        "import matplotlib.pyplot as plt\n",
        "from sklearn.metrics import precision_recall_fscore_support, accuracy_score, roc_curve, auc\n",
        "from tqdm import tqdm\n",
        "from typing import Dict, List, Tuple, Set\n",
        "from rank_bm25 import BM25Okapi\n",
        "\n",
        "\n",
        "class HybridRAG:\n",
        "    def __init__(self):\n",
        "        self.alpha = 0.5  # Default value, will be tuned\n",
        "        self.threshold = 0.5  # Default value, will be tuned using EER\n",
        "\n",
        "    def semantic_search(self, query_embedding: np.ndarray, chunk_embeddings: Dict[Tuple[int, int], np.ndarray]) -> Dict[Tuple[int, int], float]:\n",
        "        \"\"\"\n",
        "        Perform semantic search using cosine similarity\n",
        "\n",
        "        Args:\n",
        "            query_embedding: Embedding of the query\n",
        "            chunk_embeddings: Dictionary of chunk embeddings {(start_idx, end_idx): embedding}\n",
        "\n",
        "        Returns:\n",
        "            Dictionary of chunks and their semantic scores {(start_idx, end_idx): score}\n",
        "        \"\"\"\n",
        "        scores = {}\n",
        "        for chunk_range, chunk_emb in chunk_embeddings.items():\n",
        "            # Compute cosine similarity\n",
        "            score = np.dot(query_embedding, chunk_emb.T)[0][0]\n",
        "            scores[chunk_range] = float(score)\n",
        "        return scores\n",
        "\n",
        "    def bm25_search(self, query: str, utterances_chunks: List[str]) -> Dict[int, float]:\n",
        "        \"\"\"\n",
        "        Perform BM25 search on chunks\n",
        "\n",
        "        Args:\n",
        "            query: Query string\n",
        "            utterances_chunks: List of utterance chunks\n",
        "\n",
        "        Returns:\n",
        "            Dictionary of chunk indices and their BM25 scores {idx: score}\n",
        "        \"\"\"\n",
        "\n",
        "        # Tokenize utterance chunks\n",
        "        tokenized_chunks = [chunk.lower().split() for chunk in utterances_chunks]\n",
        "        bm25 = BM25Okapi(tokenized_chunks)\n",
        "\n",
        "        # Tokenize query\n",
        "        tokenized_query = query.lower().split()\n",
        "\n",
        "        # Get BM25 scores\n",
        "        bm25_scores = bm25.get_scores(tokenized_query)\n",
        "\n",
        "        # Normalize scores to [0, 1]\n",
        "        if np.max(bm25_scores) > 0:\n",
        "            bm25_scores = bm25_scores / np.max(bm25_scores)\n",
        "\n",
        "        return {i: score for i, score in enumerate(bm25_scores)}\n",
        "\n",
        "    def hybrid_search(self, query: str, query_embedding: np.ndarray,\n",
        "                     utterances: List[str], utterances_chunks: List[str],\n",
        "                     chunk_embeddings: Dict[Tuple[int, int], np.ndarray]) -> Dict[Tuple[int, int], float]:\n",
        "        \"\"\"\n",
        "        Perform hybrid search combining semantic and BM25 scores at chunk level\n",
        "\n",
        "        Args:\n",
        "            query: Query string\n",
        "            query_embedding: Embedding of the query\n",
        "            utterances: List of utterances (needed for mapping to utterance level later)\n",
        "            utterances_chunks: List of utterance chunks\n",
        "            chunk_embeddings: Dictionary of chunk embeddings\n",
        "\n",
        "        Returns:\n",
        "            Dictionary of chunk ranges and their hybrid scores {(start_idx, end_idx): score}\n",
        "        \"\"\"\n",
        "        # Get semantic scores for chunks\n",
        "        semantic_scores = self.semantic_search(query_embedding, chunk_embeddings)\n",
        "\n",
        "        # Get BM25 scores for chunks\n",
        "        bm25_scores = self.bm25_search(query, utterances_chunks)\n",
        "\n",
        "        # Combine scores at chunk level\n",
        "        hybrid_chunk_scores = {}\n",
        "\n",
        "        for i, (chunk_range, semantic_score) in enumerate(semantic_scores.items()):\n",
        "            if i in bm25_scores:\n",
        "                bm25_score = bm25_scores[i]\n",
        "                # Combine using alpha\n",
        "                hybrid_score = self.alpha * semantic_score + (1 - self.alpha) * bm25_score\n",
        "                hybrid_chunk_scores[chunk_range] = hybrid_score\n",
        "            else:\n",
        "                hybrid_chunk_scores[chunk_range] = self.alpha * semantic_score\n",
        "\n",
        "        return hybrid_chunk_scores\n",
        "\n",
        "    def predict(self, query: str, query_embedding: np.ndarray,\n",
        "               utterances: List[str], utterances_chunks: List[str],\n",
        "               chunk_embeddings: Dict[Tuple[int, int], np.ndarray]) -> List[int]:\n",
        "        \"\"\"\n",
        "        Predict relevant utterances for a query by first scoring at chunk level\n",
        "        and then mapping to utterance level\n",
        "\n",
        "        Args:\n",
        "            query: Query string\n",
        "            query_embedding: Embedding of the query\n",
        "            utterances: List of utterances\n",
        "            utterances_chunks: List of utterance chunks\n",
        "            chunk_embeddings: Dictionary of chunk embeddings\n",
        "\n",
        "        Returns:\n",
        "            Binary predictions for each utterance (1 for relevant, 0 for irrelevant)\n",
        "        \"\"\"\n",
        "        # Get hybrid scores at chunk level\n",
        "        chunk_scores = self.hybrid_search(query, query_embedding, utterances, utterances_chunks, chunk_embeddings)\n",
        "\n",
        "        # Initialize scores for each utterance\n",
        "        utterance_scores = np.zeros(len(utterances))\n",
        "\n",
        "        # Map chunk scores to utterance level (each utterance gets max score from chunks it appears in)\n",
        "        for chunk_range, score in chunk_scores.items():\n",
        "            start_idx, end_idx = chunk_range\n",
        "            for i in range(start_idx, end_idx):\n",
        "                if i < len(utterances):\n",
        "                    utterance_scores[i] = max(utterance_scores[i], score)\n",
        "\n",
        "        # Apply threshold for prediction\n",
        "        predictions = (utterance_scores >= self.threshold).astype(int)\n",
        "        return predictions\n",
        "\n",
        "    def compute_metrics(self, predictions: np.ndarray, labels: np.ndarray) -> Dict[str, float]:\n",
        "        \"\"\"\n",
        "        Compute evaluation metrics\n",
        "\n",
        "        Args:\n",
        "            predictions: Binary predictions (1 for relevant, 0 for irrelevant)\n",
        "            labels: Ground truth labels\n",
        "\n",
        "        Returns:\n",
        "            Dictionary of metrics\n",
        "        \"\"\"\n",
        "        # Convert to numpy arrays if needed\n",
        "        if isinstance(predictions, torch.Tensor):\n",
        "            predictions = predictions.cpu().numpy()\n",
        "        if isinstance(labels, torch.Tensor):\n",
        "            labels = labels.cpu().numpy()\n",
        "\n",
        "        # Calculate precision, recall, F1\n",
        "        precision, recall, f1, _ = precision_recall_fscore_support(labels, predictions, average='binary', zero_division=0)\n",
        "\n",
        "        # Calculate accuracy\n",
        "        accuracy = accuracy_score(labels, predictions)\n",
        "\n",
        "        # Calculate IoU (Intersection over Union)\n",
        "        intersection = np.logical_and(predictions, labels).sum()\n",
        "        union = np.logical_or(predictions, labels).sum()\n",
        "        iou = intersection / union if union > 0 else 0.0\n",
        "\n",
        "        return {\n",
        "            'precision': precision,\n",
        "            'recall': recall,\n",
        "            'f1': f1,\n",
        "            'accuracy': accuracy,\n",
        "            'iou': iou\n",
        "        }\n",
        "\n",
        "    def find_eer_threshold(self, scores: np.ndarray, labels: np.ndarray) -> float:\n",
        "        \"\"\"\n",
        "        Find the threshold at the Equal Error Rate (EER) point\n",
        "\n",
        "        Args:\n",
        "            scores: Prediction scores\n",
        "            labels: Ground truth labels\n",
        "\n",
        "        Returns:\n",
        "            Threshold at EER\n",
        "        \"\"\"\n",
        "        # Calculate ROC curve\n",
        "        fpr, tpr, thresholds = roc_curve(labels, scores)\n",
        "\n",
        "        # Find the threshold where FPR ≈ 1-TPR (i.e., FAR ≈ FRR)\n",
        "        fnr = 1 - tpr  # False Negative Rate\n",
        "        abs_diff = np.abs(fpr - fnr)\n",
        "        eer_idx = np.argmin(abs_diff)\n",
        "        eer_threshold = thresholds[eer_idx]\n",
        "\n",
        "        return float(eer_threshold)\n",
        "\n",
        "    def tune_alpha(self, train_dataset, val_dataset, alpha_range=None) -> float:\n",
        "        \"\"\"\n",
        "        Tune the alpha parameter using validation set\n",
        "\n",
        "        Args:\n",
        "            train_dataset: Training dataset\n",
        "            val_dataset: Validation dataset\n",
        "            alpha_range: Range of alpha values to try\n",
        "\n",
        "        Returns:\n",
        "            Best alpha value\n",
        "        \"\"\"\n",
        "        if alpha_range is None:\n",
        "            alpha_range = np.arange(0, 1.1, 0.1)\n",
        "\n",
        "        best_alpha = 0\n",
        "        best_f1 = 0\n",
        "\n",
        "        print(\"Tuning alpha parameter...\")\n",
        "\n",
        "        for alpha in tqdm(alpha_range):\n",
        "            self.alpha = alpha\n",
        "\n",
        "            # Collect scores and labels from validation set\n",
        "            all_scores = []\n",
        "            all_labels = []\n",
        "\n",
        "            for idx in range(len(val_dataset)):\n",
        "                item = val_dataset[idx]\n",
        "                utterances = item['utterances']\n",
        "                utterances_chunks = item['utterances_chunks']\n",
        "                embedded_chunks = item['embedded_chunks']\n",
        "\n",
        "                for question in item['questions']:\n",
        "                    query = question['query']\n",
        "                    query_embedding = question['embedded_query']\n",
        "                    labels = question['labels']\n",
        "\n",
        "                    # Get hybrid scores at chunk level and map to utterance level\n",
        "                    chunk_scores = self.hybrid_search(query, query_embedding, utterances, utterances_chunks, embedded_chunks)\n",
        "\n",
        "                    # Map chunk scores to utterance level\n",
        "                    utterance_scores = np.zeros(len(utterances))\n",
        "                    for chunk_range, score in chunk_scores.items():\n",
        "                        start_idx, end_idx = chunk_range\n",
        "                        for i in range(start_idx, end_idx):\n",
        "                            if i < len(utterances):\n",
        "                                utterance_scores[i] = max(utterance_scores[i], score)\n",
        "\n",
        "                    all_scores.extend(utterance_scores)\n",
        "                    all_labels.extend(labels.cpu().numpy())\n",
        "\n",
        "            # Find EER threshold\n",
        "            self.threshold = self.find_eer_threshold(np.array(all_scores), np.array(all_labels))\n",
        "\n",
        "            # Evaluate with this alpha and threshold\n",
        "            val_metrics = self.evaluate(val_dataset)\n",
        "            avg_f1 = np.mean([q_metrics['f1'] for q_metrics in val_metrics])\n",
        "\n",
        "            print(f\"Alpha: {alpha:.1f}, Threshold: {self.threshold:.4f}, Avg F1: {avg_f1:.4f}\")\n",
        "\n",
        "            if avg_f1 > best_f1:\n",
        "                best_f1 = avg_f1\n",
        "                best_alpha = alpha\n",
        "\n",
        "        # Set the best alpha\n",
        "        self.alpha = best_alpha\n",
        "        print(f\"Best alpha: {best_alpha:.2f}\")\n",
        "\n",
        "        return best_alpha\n",
        "\n",
        "    def find_optimal_threshold(self, dataset) -> float:\n",
        "        \"\"\"\n",
        "        Find the optimal threshold using EER on the dataset\n",
        "\n",
        "        Args:\n",
        "            dataset: Dataset to use for finding threshold\n",
        "\n",
        "        Returns:\n",
        "            Optimal threshold\n",
        "        \"\"\"\n",
        "        all_scores = []\n",
        "        all_labels = []\n",
        "\n",
        "        print(\"Finding optimal threshold...\")\n",
        "\n",
        "        for idx in tqdm(range(len(dataset))):\n",
        "            item = dataset[idx]\n",
        "            utterances = item['utterances']\n",
        "            utterances_chunks = item['utterances_chunks']\n",
        "            embedded_chunks = item['embedded_chunks']\n",
        "\n",
        "            for question in item['questions']:\n",
        "                query = question['query']\n",
        "                query_embedding = question['embedded_query']\n",
        "                labels = question['labels']\n",
        "\n",
        "                # Get hybrid scores at chunk level\n",
        "                chunk_scores = self.hybrid_search(query, query_embedding, utterances, utterances_chunks, embedded_chunks)\n",
        "\n",
        "                # Map chunk scores to utterance level\n",
        "                utterance_scores = np.zeros(len(utterances))\n",
        "                for chunk_range, score in chunk_scores.items():\n",
        "                    start_idx, end_idx = chunk_range\n",
        "                    for i in range(start_idx, end_idx):\n",
        "                        if i < len(utterances):\n",
        "                            utterance_scores[i] = max(utterance_scores[i], score)\n",
        "\n",
        "                all_scores.extend(utterance_scores)\n",
        "                all_labels.extend(labels.cpu().numpy())\n",
        "\n",
        "        # Find EER threshold\n",
        "        threshold = self.find_eer_threshold(np.array(all_scores), np.array(all_labels))\n",
        "        self.threshold = threshold\n",
        "\n",
        "        print(f\"Optimal threshold (EER): {threshold:.4f}\")\n",
        "\n",
        "        return threshold\n",
        "\n",
        "    def evaluate(self, dataset) -> List[Dict[str, float]]:\n",
        "        \"\"\"\n",
        "        Evaluate the model on a dataset\n",
        "\n",
        "        Args:\n",
        "            dataset: Dataset to evaluate on\n",
        "\n",
        "        Returns:\n",
        "            List of metrics for each question\n",
        "        \"\"\"\n",
        "        all_metrics = []\n",
        "\n",
        "        for idx in range(len(dataset)):\n",
        "            item = dataset[idx]\n",
        "            utterances = item['utterances']\n",
        "            utterances_chunks = item['utterances_chunks']\n",
        "            embedded_chunks = item['embedded_chunks']\n",
        "\n",
        "            for question in item['questions']:\n",
        "                query = question['query']\n",
        "                query_embedding = question['embedded_query']\n",
        "                labels = question['labels']\n",
        "\n",
        "                # Make predictions at utterance level\n",
        "                predictions = self.predict(query, query_embedding, utterances, utterances_chunks, embedded_chunks)\n",
        "\n",
        "                # Compute metrics\n",
        "                metrics = self.compute_metrics(predictions, labels)\n",
        "                all_metrics.append(metrics)\n",
        "\n",
        "        return all_metrics\n",
        "\n",
        "    def display_aggregate_metrics(self, metrics_list: List[Dict[str, float]]) -> Dict[str, float]:\n",
        "        \"\"\"\n",
        "        Display aggregate metrics\n",
        "\n",
        "        Args:\n",
        "            metrics_list: List of metrics dictionaries\n",
        "\n",
        "        Returns:\n",
        "            Dictionary of average metrics\n",
        "        \"\"\"\n",
        "        avg_metrics = {\n",
        "            'precision': np.mean([m['precision'] for m in metrics_list]),\n",
        "            'recall': np.mean([m['recall'] for m in metrics_list]),\n",
        "            'f1': np.mean([m['f1'] for m in metrics_list]),\n",
        "            'accuracy': np.mean([m['accuracy'] for m in metrics_list]),\n",
        "            'iou': np.mean([m['iou'] for m in metrics_list])\n",
        "        }\n",
        "\n",
        "        print(\"\\nAggregate Metrics:\")\n",
        "        print(f\"Precision: {avg_metrics['precision']:.4f}\")\n",
        "        print(f\"Recall: {avg_metrics['recall']:.4f}\")\n",
        "        print(f\"F1 Score: {avg_metrics['f1']:.4f}\")\n",
        "        print(f\"Accuracy: {avg_metrics['accuracy']:.4f}\")\n",
        "        print(f\"IoU: {avg_metrics['iou']:.4f}\")\n",
        "\n",
        "        return avg_metrics\n",
        "\n",
        "    def plot_precision_recall_curve(self, dataset):\n",
        "        \"\"\"\n",
        "        Plot precision-recall curve for the dataset\n",
        "\n",
        "        Args:\n",
        "            dataset: Dataset to plot for\n",
        "        \"\"\"\n",
        "        from sklearn.metrics import precision_recall_curve\n",
        "\n",
        "        all_scores = []\n",
        "        all_labels = []\n",
        "\n",
        "        for idx in range(len(dataset)):\n",
        "            item = dataset[idx]\n",
        "            utterances = item['utterances']\n",
        "            utterances_chunks = item['utterances_chunks']\n",
        "            embedded_chunks = item['embedded_chunks']\n",
        "\n",
        "            for question in item['questions']:\n",
        "                query = question['query']\n",
        "                query_embedding = question['embedded_query']\n",
        "                labels = question['labels']\n",
        "\n",
        "                # Get hybrid scores at chunk level\n",
        "                chunk_scores = self.hybrid_search(query, query_embedding, utterances, utterances_chunks, embedded_chunks)\n",
        "\n",
        "                # Map chunk scores to utterance level\n",
        "                utterance_scores = np.zeros(len(utterances))\n",
        "                for chunk_range, score in chunk_scores.items():\n",
        "                    start_idx, end_idx = chunk_range\n",
        "                    for i in range(start_idx, end_idx):\n",
        "                        if i < len(utterances):\n",
        "                            utterance_scores[i] = max(utterance_scores[i], score)\n",
        "\n",
        "                all_scores.extend(utterance_scores)\n",
        "                all_labels.extend(labels.cpu().numpy())\n",
        "\n",
        "        # Calculate precision-recall curve\n",
        "        precision, recall, thresholds = precision_recall_curve(all_labels, all_scores)\n",
        "\n",
        "        # Plot\n",
        "        plt.figure(figsize=(10, 7))\n",
        "        plt.plot(recall, precision, 'b-', label=f'Precision-Recall (α={self.alpha:.2f})')\n",
        "        plt.xlabel('Recall')\n",
        "        plt.ylabel('Precision')\n",
        "        plt.title('Precision-Recall Curve')\n",
        "        plt.grid(True)\n",
        "        plt.legend()\n",
        "\n",
        "        # Mark the EER threshold point\n",
        "        eer_threshold = self.threshold\n",
        "        # Find the closest threshold in the thresholds array\n",
        "        if len(thresholds) > 0:\n",
        "            idx = np.argmin(np.abs(thresholds - eer_threshold))\n",
        "            if idx < len(precision) and idx < len(recall):\n",
        "                plt.plot(recall[idx], precision[idx], 'ro', label=f'EER Threshold: {eer_threshold:.4f}')\n",
        "                plt.legend()\n",
        "\n",
        "        plt.show()\n",
        "\n",
        "\n",
        "def run_hybrid_rag_pipeline(train_dataset, val_dataset, test_dataset):\n",
        "    \"\"\"\n",
        "    Run the complete hybrid RAG pipeline\n",
        "\n",
        "    Args:\n",
        "        train_dataset: Training dataset\n",
        "        val_dataset: Validation dataset\n",
        "        test_dataset: Test dataset\n",
        "    \"\"\"\n",
        "    # Initialize the model\n",
        "    hybrid_rag = HybridRAG()\n",
        "\n",
        "    # Step 1: Tune alpha parameter on train + validation\n",
        "    best_alpha = hybrid_rag.tune_alpha(train_dataset, val_dataset)\n",
        "\n",
        "    # Step 2: Find optimal threshold using EER on validation set\n",
        "    optimal_threshold = hybrid_rag.find_optimal_threshold(val_dataset)\n",
        "\n",
        "    # Step 3: Evaluate on test set\n",
        "    print(\"\\nEvaluating on test set...\")\n",
        "    test_metrics = hybrid_rag.evaluate(test_dataset)\n",
        "\n",
        "    # Display aggregate metrics\n",
        "    print(\"\\nTest Set Results:\")\n",
        "    avg_test_metrics = hybrid_rag.display_aggregate_metrics(test_metrics)\n",
        "\n",
        "    # Plot precision-recall curve\n",
        "    hybrid_rag.plot_precision_recall_curve(test_dataset)\n",
        "\n",
        "    return hybrid_rag, avg_test_metrics"
      ],
      "metadata": {
        "id": "l8blCRuD1JL_"
      },
      "execution_count": 67,
      "outputs": []
    },
    {
      "cell_type": "markdown",
      "source": [
        "## One run"
      ],
      "metadata": {
        "id": "q9yzw7pxGTnv"
      }
    },
    {
      "cell_type": "code",
      "source": [
        "device = torch.device(\"cuda\" if torch.cuda.is_available() else \"cpu\")\n",
        "encoder = SentenceTransformer('all-MiniLM-L6-v2').to(device)"
      ],
      "metadata": {
        "id": "t2fWBegg4c4h"
      },
      "execution_count": 47,
      "outputs": []
    },
    {
      "cell_type": "code",
      "source": [
        "chunker = semchunk.chunkerify('gpt-4', chunk_size=200)\n",
        "train_dataset, val_dataset, test_dataset = load_datasets(files, encoder, chunker)"
      ],
      "metadata": {
        "colab": {
          "base_uri": "https://localhost:8080/"
        },
        "id": "YsDJ_Jah4SKC",
        "outputId": "b0f4a240-0721-4c55-af52-b6005e6da679"
      },
      "execution_count": 68,
      "outputs": [
        {
          "output_type": "stream",
          "name": "stdout",
          "text": [
            "Train dataset size: 162\n",
            "Validation dataset size: 35\n",
            "Test dataset size: 35\n"
          ]
        }
      ]
    },
    {
      "cell_type": "code",
      "source": [
        "hybrid_rag, test_metrics = run_hybrid_rag_pipeline(train_dataset, val_dataset, test_dataset)\n",
        "\n",
        "print(f\"\\nBest alpha: {hybrid_rag.alpha:.2f}\")\n",
        "print(f\"Optimal threshold: {hybrid_rag.threshold:.4f}\")\n",
        "print(f\"Test F1 score: {test_metrics['f1']:.4f}\")"
      ],
      "metadata": {
        "colab": {
          "base_uri": "https://localhost:8080/",
          "height": 1000
        },
        "id": "8qM1ctfvqZFG",
        "outputId": "45858229-7d88-4f5e-9d11-58b614240854"
      },
      "execution_count": 69,
      "outputs": [
        {
          "output_type": "stream",
          "name": "stdout",
          "text": [
            "Tuning alpha parameter...\n"
          ]
        },
        {
          "output_type": "stream",
          "name": "stderr",
          "text": [
            "  9%|▉         | 1/11 [00:04<00:42,  4.20s/it]"
          ]
        },
        {
          "output_type": "stream",
          "name": "stdout",
          "text": [
            "Alpha: 0.0, Threshold: 0.3887, Avg F1: 0.1610\n"
          ]
        },
        {
          "output_type": "stream",
          "name": "stderr",
          "text": [
            "\r 18%|█▊        | 2/11 [00:07<00:32,  3.59s/it]"
          ]
        },
        {
          "output_type": "stream",
          "name": "stdout",
          "text": [
            "Alpha: 0.1, Threshold: 0.3714, Avg F1: 0.1628\n"
          ]
        },
        {
          "output_type": "stream",
          "name": "stderr",
          "text": [
            "\r 27%|██▋       | 3/11 [00:10<00:26,  3.37s/it]"
          ]
        },
        {
          "output_type": "stream",
          "name": "stdout",
          "text": [
            "Alpha: 0.2, Threshold: 0.3533, Avg F1: 0.1663\n"
          ]
        },
        {
          "output_type": "stream",
          "name": "stderr",
          "text": [
            "\r 36%|███▋      | 4/11 [00:14<00:24,  3.53s/it]"
          ]
        },
        {
          "output_type": "stream",
          "name": "stdout",
          "text": [
            "Alpha: 0.3, Threshold: 0.3380, Avg F1: 0.1685\n"
          ]
        },
        {
          "output_type": "stream",
          "name": "stderr",
          "text": [
            "\r 45%|████▌     | 5/11 [00:17<00:20,  3.45s/it]"
          ]
        },
        {
          "output_type": "stream",
          "name": "stdout",
          "text": [
            "Alpha: 0.4, Threshold: 0.3205, Avg F1: 0.1697\n"
          ]
        },
        {
          "output_type": "stream",
          "name": "stderr",
          "text": [
            "\r 55%|█████▍    | 6/11 [00:20<00:16,  3.34s/it]"
          ]
        },
        {
          "output_type": "stream",
          "name": "stdout",
          "text": [
            "Alpha: 0.5, Threshold: 0.3058, Avg F1: 0.1748\n"
          ]
        },
        {
          "output_type": "stream",
          "name": "stderr",
          "text": [
            "\r 64%|██████▎   | 7/11 [00:24<00:13,  3.46s/it]"
          ]
        },
        {
          "output_type": "stream",
          "name": "stdout",
          "text": [
            "Alpha: 0.6, Threshold: 0.2912, Avg F1: 0.1783\n"
          ]
        },
        {
          "output_type": "stream",
          "name": "stderr",
          "text": [
            "\r 73%|███████▎  | 8/11 [00:30<00:13,  4.38s/it]"
          ]
        },
        {
          "output_type": "stream",
          "name": "stdout",
          "text": [
            "Alpha: 0.7, Threshold: 0.2775, Avg F1: 0.1882\n"
          ]
        },
        {
          "output_type": "stream",
          "name": "stderr",
          "text": [
            "\r 82%|████████▏ | 9/11 [00:37<00:10,  5.14s/it]"
          ]
        },
        {
          "output_type": "stream",
          "name": "stdout",
          "text": [
            "Alpha: 0.8, Threshold: 0.2627, Avg F1: 0.1935\n"
          ]
        },
        {
          "output_type": "stream",
          "name": "stderr",
          "text": [
            "\r 91%|█████████ | 10/11 [00:43<00:05,  5.51s/it]"
          ]
        },
        {
          "output_type": "stream",
          "name": "stdout",
          "text": [
            "Alpha: 0.9, Threshold: 0.2486, Avg F1: 0.1952\n"
          ]
        },
        {
          "output_type": "stream",
          "name": "stderr",
          "text": [
            "100%|██████████| 11/11 [00:47<00:00,  4.27s/it]\n"
          ]
        },
        {
          "output_type": "stream",
          "name": "stdout",
          "text": [
            "Alpha: 1.0, Threshold: 0.2347, Avg F1: 0.1945\n",
            "Best alpha: 0.90\n",
            "Finding optimal threshold...\n"
          ]
        },
        {
          "output_type": "stream",
          "name": "stderr",
          "text": [
            "100%|██████████| 35/35 [00:01<00:00, 26.63it/s]\n"
          ]
        },
        {
          "output_type": "stream",
          "name": "stdout",
          "text": [
            "Optimal threshold (EER): 0.2486\n",
            "\n",
            "Evaluating on test set...\n",
            "\n",
            "Test Set Results:\n",
            "\n",
            "Aggregate Metrics:\n",
            "Precision: 0.1618\n",
            "Recall: 0.6806\n",
            "F1 Score: 0.2063\n",
            "Accuracy: 0.5503\n",
            "IoU: 0.1274\n"
          ]
        },
        {
          "output_type": "display_data",
          "data": {
            "text/plain": [
              "<Figure size 1000x700 with 1 Axes>"
            ],
            "image/png": "[encoded data removed]"
          },
          "metadata": {}
        },
        {
          "output_type": "stream",
          "name": "stdout",
          "text": [
            "\n",
            "Best alpha: 0.90\n",
            "Optimal threshold: 0.2486\n",
            "Test F1 score: 0.2063\n"
          ]
        }
      ]
    },
    {
      "cell_type": "markdown",
      "source": [
        "## Many runs"
      ],
      "metadata": {
        "id": "mfdA2Ju3GVow"
      }
    },
    {
      "cell_type": "code",
      "source": [
        "def chunk_size_analysis(encoder, chunk_sizes):\n",
        "    results = {\n",
        "        'chunk_size': [],\n",
        "        'precision': [],\n",
        "        'recall': [],\n",
        "        'f1': [],\n",
        "        'accuracy': [],\n",
        "        'iou': [],\n",
        "        'alpha': [],\n",
        "        'threshold': []\n",
        "    }\n",
        "\n",
        "    for chunk_size in chunk_sizes:\n",
        "        chunker = semchunk.chunkerify('gpt-4', chunk_size=chunk_size)\n",
        "        train_dataset, val_dataset, test_dataset = load_datasets(files, encoder, chunker)\n",
        "        hybrid_rag, test_metrics = run_hybrid_rag_pipeline(train_dataset, val_dataset, test_dataset)\n",
        "\n",
        "        results['chunk_size'].append(chunk_size)\n",
        "        results['precision'].append(test_metrics['precision'])\n",
        "        results['recall'].append(test_metrics['recall'])\n",
        "        results['f1'].append(test_metrics['f1'])\n",
        "        results['accuracy'].append(test_metrics['accuracy'])\n",
        "        results['iou'].append(test_metrics['iou'])\n",
        "        results['alpha'].append(hybrid_rag.alpha)\n",
        "        results['threshold'].append(hybrid_rag.threshold)\n",
        "\n",
        "        print(f\"\\nChunk size: {chunk_size}\")\n",
        "        print(f\"Best alpha: {hybrid_rag.alpha:.2f}\")\n",
        "        print(f\"Optimal threshold: {hybrid_rag.threshold:.4f}\")\n",
        "        print(f\"Test F1 score: {test_metrics['f1']:.4f}\")\n",
        "\n",
        "    # Plotting: Grouped Bar Chart\n",
        "    metrics = ['recall', 'precision', 'f1', 'accuracy', 'iou']\n",
        "    num_metrics = len(metrics)\n",
        "    num_chunks = len(results['chunk_size'])\n",
        "\n",
        "    x = np.arange(num_chunks)  # x locations for groups\n",
        "    bar_width = 0.15\n",
        "\n",
        "    plt.figure(figsize=(14, 6))\n",
        "\n",
        "    for i, metric in enumerate(metrics):\n",
        "        offsets = x + (i - num_metrics / 2) * bar_width + bar_width / 2\n",
        "        plt.bar(offsets, results[metric], width=bar_width, label=metric)\n",
        "\n",
        "        # Optional: annotate each bar with its value\n",
        "        for j, val in enumerate(results[metric]):\n",
        "            plt.text(offsets[j], val + 0.01, f'{val:.2f}', ha='center', va='bottom', fontsize=8)\n",
        "\n",
        "    plt.xlabel('Chunk Size')\n",
        "    plt.ylabel('Metric Score')\n",
        "    plt.title('Hybrid RAG Performance Metrics per Chunk Size')\n",
        "    plt.xticks(x, results['chunk_size'])\n",
        "    plt.ylim(0, 1.05)\n",
        "    plt.legend()\n",
        "    plt.grid(True, axis='y')\n",
        "    plt.tight_layout()\n",
        "    plt.show()\n",
        "\n",
        "    return results\n"
      ],
      "metadata": {
        "id": "BRZqWaojJ1Yr"
      },
      "execution_count": 93,
      "outputs": []
    },
    {
      "cell_type": "code",
      "source": [
        "chunk_sizes = [128, 512, 1024, 2048]\n",
        "results = chunk_size_analysis(encoder, chunk_sizes)"
      ],
      "metadata": {
        "colab": {
          "base_uri": "https://localhost:8080/",
          "height": 1000
        },
        "id": "WIg4SjjzRSg6",
        "outputId": "8ccb3f79-7a15-4e79-a7c6-a83a2067ec0b"
      },
      "execution_count": 92,
      "outputs": [
        {
          "output_type": "stream",
          "name": "stdout",
          "text": [
            "Datasets are loading...\n",
            "Train dataset size: 162\n",
            "Validation dataset size: 35\n",
            "Test dataset size: 35\n",
            "Tuning alpha parameter...\n"
          ]
        },
        {
          "output_type": "stream",
          "name": "stderr",
          "text": [
            "  9%|▉         | 1/11 [00:03<00:36,  3.67s/it]"
          ]
        },
        {
          "output_type": "stream",
          "name": "stdout",
          "text": [
            "Alpha: 0.0, Threshold: 0.3011, Avg F1: 0.1499\n"
          ]
        },
        {
          "output_type": "stream",
          "name": "stderr",
          "text": [
            "\r 18%|█▊        | 2/11 [00:07<00:33,  3.67s/it]"
          ]
        },
        {
          "output_type": "stream",
          "name": "stdout",
          "text": [
            "Alpha: 0.1, Threshold: 0.2921, Avg F1: 0.1519\n"
          ]
        },
        {
          "output_type": "stream",
          "name": "stderr",
          "text": [
            "\r 27%|██▋       | 3/11 [00:10<00:27,  3.49s/it]"
          ]
        },
        {
          "output_type": "stream",
          "name": "stdout",
          "text": [
            "Alpha: 0.2, Threshold: 0.2836, Avg F1: 0.1529\n"
          ]
        },
        {
          "output_type": "stream",
          "name": "stderr",
          "text": [
            "\r 36%|███▋      | 4/11 [00:13<00:23,  3.39s/it]"
          ]
        },
        {
          "output_type": "stream",
          "name": "stdout",
          "text": [
            "Alpha: 0.3, Threshold: 0.2761, Avg F1: 0.1544\n"
          ]
        },
        {
          "output_type": "stream",
          "name": "stderr",
          "text": [
            "\r 45%|████▌     | 5/11 [00:17<00:21,  3.64s/it]"
          ]
        },
        {
          "output_type": "stream",
          "name": "stdout",
          "text": [
            "Alpha: 0.4, Threshold: 0.2685, Avg F1: 0.1585\n"
          ]
        },
        {
          "output_type": "stream",
          "name": "stderr",
          "text": [
            "\r 55%|█████▍    | 6/11 [00:21<00:17,  3.49s/it]"
          ]
        },
        {
          "output_type": "stream",
          "name": "stdout",
          "text": [
            "Alpha: 0.5, Threshold: 0.2604, Avg F1: 0.1633\n"
          ]
        },
        {
          "output_type": "stream",
          "name": "stderr",
          "text": [
            "\r 64%|██████▎   | 7/11 [00:24<00:13,  3.41s/it]"
          ]
        },
        {
          "output_type": "stream",
          "name": "stdout",
          "text": [
            "Alpha: 0.6, Threshold: 0.2517, Avg F1: 0.1656\n"
          ]
        },
        {
          "output_type": "stream",
          "name": "stderr",
          "text": [
            "\r 73%|███████▎  | 8/11 [00:27<00:10,  3.47s/it]"
          ]
        },
        {
          "output_type": "stream",
          "name": "stdout",
          "text": [
            "Alpha: 0.7, Threshold: 0.2429, Avg F1: 0.1686\n"
          ]
        },
        {
          "output_type": "stream",
          "name": "stderr",
          "text": [
            "\r 82%|████████▏ | 9/11 [00:31<00:07,  3.55s/it]"
          ]
        },
        {
          "output_type": "stream",
          "name": "stdout",
          "text": [
            "Alpha: 0.8, Threshold: 0.2364, Avg F1: 0.1754\n"
          ]
        },
        {
          "output_type": "stream",
          "name": "stderr",
          "text": [
            "\r 91%|█████████ | 10/11 [00:34<00:03,  3.45s/it]"
          ]
        },
        {
          "output_type": "stream",
          "name": "stdout",
          "text": [
            "Alpha: 0.9, Threshold: 0.2288, Avg F1: 0.1712\n"
          ]
        },
        {
          "output_type": "stream",
          "name": "stderr",
          "text": [
            "100%|██████████| 11/11 [00:38<00:00,  3.47s/it]\n"
          ]
        },
        {
          "output_type": "stream",
          "name": "stdout",
          "text": [
            "Alpha: 1.0, Threshold: 0.2228, Avg F1: 0.1700\n",
            "Best alpha: 0.80\n",
            "Finding optimal threshold...\n"
          ]
        },
        {
          "output_type": "stream",
          "name": "stderr",
          "text": [
            "100%|██████████| 35/35 [00:01<00:00, 21.82it/s]\n"
          ]
        },
        {
          "output_type": "stream",
          "name": "stdout",
          "text": [
            "Optimal threshold (EER): 0.2364\n",
            "\n",
            "Evaluating on test set...\n",
            "\n",
            "Test Set Results:\n",
            "\n",
            "Aggregate Metrics:\n",
            "Precision: 0.1370\n",
            "Recall: 0.6268\n",
            "F1 Score: 0.1831\n",
            "Accuracy: 0.5295\n",
            "IoU: 0.1110\n"
          ]
        },
        {
          "output_type": "display_data",
          "data": {
            "text/plain": [
              "<Figure size 1000x700 with 1 Axes>"
            ],
            "image/png": "[encoded data removed]"
          },
          "metadata": {}
        },
        {
          "output_type": "stream",
          "name": "stdout",
          "text": [
            "\n",
            "Chunk size: 128\n",
            "Best alpha: 0.80\n",
            "Optimal threshold: 0.2364\n",
            "Test F1 score: 0.1831\n",
            "Datasets are loading...\n",
            "Train dataset size: 162\n",
            "Validation dataset size: 35\n",
            "Test dataset size: 35\n",
            "Tuning alpha parameter...\n"
          ]
        },
        {
          "output_type": "stream",
          "name": "stderr",
          "text": [
            "  9%|▉         | 1/11 [00:03<00:33,  3.32s/it]"
          ]
        },
        {
          "output_type": "stream",
          "name": "stdout",
          "text": [
            "Alpha: 0.0, Threshold: 0.5397, Avg F1: 0.1987\n"
          ]
        },
        {
          "output_type": "stream",
          "name": "stderr",
          "text": [
            "\r 18%|█▊        | 2/11 [00:06<00:30,  3.34s/it]"
          ]
        },
        {
          "output_type": "stream",
          "name": "stdout",
          "text": [
            "Alpha: 0.1, Threshold: 0.5077, Avg F1: 0.1990\n"
          ]
        },
        {
          "output_type": "stream",
          "name": "stderr",
          "text": [
            "\r 27%|██▋       | 3/11 [00:09<00:25,  3.15s/it]"
          ]
        },
        {
          "output_type": "stream",
          "name": "stdout",
          "text": [
            "Alpha: 0.2, Threshold: 0.4778, Avg F1: 0.2011\n"
          ]
        },
        {
          "output_type": "stream",
          "name": "stderr",
          "text": [
            "\r 36%|███▋      | 4/11 [00:12<00:21,  3.04s/it]"
          ]
        },
        {
          "output_type": "stream",
          "name": "stdout",
          "text": [
            "Alpha: 0.3, Threshold: 0.4503, Avg F1: 0.2038\n"
          ]
        },
        {
          "output_type": "stream",
          "name": "stderr",
          "text": [
            "\r 45%|████▌     | 5/11 [00:15<00:19,  3.19s/it]"
          ]
        },
        {
          "output_type": "stream",
          "name": "stdout",
          "text": [
            "Alpha: 0.4, Threshold: 0.4219, Avg F1: 0.2069\n"
          ]
        },
        {
          "output_type": "stream",
          "name": "stderr",
          "text": [
            "\r 55%|█████▍    | 6/11 [00:19<00:15,  3.18s/it]"
          ]
        },
        {
          "output_type": "stream",
          "name": "stdout",
          "text": [
            "Alpha: 0.5, Threshold: 0.3920, Avg F1: 0.2081\n"
          ]
        },
        {
          "output_type": "stream",
          "name": "stderr",
          "text": [
            "\r 64%|██████▎   | 7/11 [00:22<00:12,  3.09s/it]"
          ]
        },
        {
          "output_type": "stream",
          "name": "stdout",
          "text": [
            "Alpha: 0.6, Threshold: 0.3629, Avg F1: 0.2117\n"
          ]
        },
        {
          "output_type": "stream",
          "name": "stderr",
          "text": [
            "\r 73%|███████▎  | 8/11 [00:24<00:09,  3.04s/it]"
          ]
        },
        {
          "output_type": "stream",
          "name": "stdout",
          "text": [
            "Alpha: 0.7, Threshold: 0.3300, Avg F1: 0.2127\n"
          ]
        },
        {
          "output_type": "stream",
          "name": "stderr",
          "text": [
            "\r 82%|████████▏ | 9/11 [00:28<00:06,  3.24s/it]"
          ]
        },
        {
          "output_type": "stream",
          "name": "stdout",
          "text": [
            "Alpha: 0.8, Threshold: 0.2993, Avg F1: 0.2139\n"
          ]
        },
        {
          "output_type": "stream",
          "name": "stderr",
          "text": [
            "\r 91%|█████████ | 10/11 [00:31<00:03,  3.16s/it]"
          ]
        },
        {
          "output_type": "stream",
          "name": "stdout",
          "text": [
            "Alpha: 0.9, Threshold: 0.2677, Avg F1: 0.2080\n"
          ]
        },
        {
          "output_type": "stream",
          "name": "stderr",
          "text": [
            "100%|██████████| 11/11 [00:34<00:00,  3.14s/it]\n"
          ]
        },
        {
          "output_type": "stream",
          "name": "stdout",
          "text": [
            "Alpha: 1.0, Threshold: 0.2383, Avg F1: 0.2032\n",
            "Best alpha: 0.80\n",
            "Finding optimal threshold...\n"
          ]
        },
        {
          "output_type": "stream",
          "name": "stderr",
          "text": [
            "100%|██████████| 35/35 [00:01<00:00, 29.01it/s]\n"
          ]
        },
        {
          "output_type": "stream",
          "name": "stdout",
          "text": [
            "Optimal threshold (EER): 0.2993\n",
            "\n",
            "Evaluating on test set...\n",
            "\n",
            "Test Set Results:\n",
            "\n",
            "Aggregate Metrics:\n",
            "Precision: 0.1717\n",
            "Recall: 0.7660\n",
            "F1 Score: 0.2240\n",
            "Accuracy: 0.5564\n",
            "IoU: 0.1397\n"
          ]
        },
        {
          "output_type": "display_data",
          "data": {
            "text/plain": [
              "<Figure size 1000x700 with 1 Axes>"
            ],
            "image/png": "[encoded data removed]"
          },
          "metadata": {}
        },
        {
          "output_type": "stream",
          "name": "stdout",
          "text": [
            "\n",
            "Chunk size: 512\n",
            "Best alpha: 0.80\n",
            "Optimal threshold: 0.2993\n",
            "Test F1 score: 0.2240\n",
            "Datasets are loading...\n",
            "Train dataset size: 162\n",
            "Validation dataset size: 35\n",
            "Test dataset size: 35\n",
            "Tuning alpha parameter...\n"
          ]
        },
        {
          "output_type": "stream",
          "name": "stderr",
          "text": [
            "  9%|▉         | 1/11 [00:02<00:28,  2.82s/it]"
          ]
        },
        {
          "output_type": "stream",
          "name": "stdout",
          "text": [
            "Alpha: 0.0, Threshold: 0.6336, Avg F1: 0.2007\n"
          ]
        },
        {
          "output_type": "stream",
          "name": "stderr",
          "text": [
            "\r 18%|█▊        | 2/11 [00:06<00:29,  3.30s/it]"
          ]
        },
        {
          "output_type": "stream",
          "name": "stdout",
          "text": [
            "Alpha: 0.1, Threshold: 0.5955, Avg F1: 0.2024\n"
          ]
        },
        {
          "output_type": "stream",
          "name": "stderr",
          "text": [
            "\r 27%|██▋       | 3/11 [00:09<00:24,  3.09s/it]"
          ]
        },
        {
          "output_type": "stream",
          "name": "stdout",
          "text": [
            "Alpha: 0.2, Threshold: 0.5566, Avg F1: 0.2073\n"
          ]
        },
        {
          "output_type": "stream",
          "name": "stderr",
          "text": [
            "\r 36%|███▋      | 4/11 [00:12<00:20,  2.97s/it]"
          ]
        },
        {
          "output_type": "stream",
          "name": "stdout",
          "text": [
            "Alpha: 0.3, Threshold: 0.5162, Avg F1: 0.2068\n"
          ]
        },
        {
          "output_type": "stream",
          "name": "stderr",
          "text": [
            "\r 45%|████▌     | 5/11 [00:14<00:17,  2.90s/it]"
          ]
        },
        {
          "output_type": "stream",
          "name": "stdout",
          "text": [
            "Alpha: 0.4, Threshold: 0.4801, Avg F1: 0.2101\n"
          ]
        },
        {
          "output_type": "stream",
          "name": "stderr",
          "text": [
            "\r 55%|█████▍    | 6/11 [00:18<00:15,  3.14s/it]"
          ]
        },
        {
          "output_type": "stream",
          "name": "stdout",
          "text": [
            "Alpha: 0.5, Threshold: 0.4434, Avg F1: 0.2142\n"
          ]
        },
        {
          "output_type": "stream",
          "name": "stderr",
          "text": [
            "\r 64%|██████▎   | 7/11 [00:21<00:12,  3.01s/it]"
          ]
        },
        {
          "output_type": "stream",
          "name": "stdout",
          "text": [
            "Alpha: 0.6, Threshold: 0.4024, Avg F1: 0.2110\n"
          ]
        },
        {
          "output_type": "stream",
          "name": "stderr",
          "text": [
            "\r 73%|███████▎  | 8/11 [00:23<00:08,  2.94s/it]"
          ]
        },
        {
          "output_type": "stream",
          "name": "stdout",
          "text": [
            "Alpha: 0.7, Threshold: 0.3589, Avg F1: 0.2125\n"
          ]
        },
        {
          "output_type": "stream",
          "name": "stderr",
          "text": [
            "\r 82%|████████▏ | 9/11 [00:26<00:05,  2.88s/it]"
          ]
        },
        {
          "output_type": "stream",
          "name": "stdout",
          "text": [
            "Alpha: 0.8, Threshold: 0.3174, Avg F1: 0.2021\n"
          ]
        },
        {
          "output_type": "stream",
          "name": "stderr",
          "text": [
            "\r 91%|█████████ | 10/11 [00:30<00:03,  3.11s/it]"
          ]
        },
        {
          "output_type": "stream",
          "name": "stdout",
          "text": [
            "Alpha: 0.9, Threshold: 0.2795, Avg F1: 0.1916\n"
          ]
        },
        {
          "output_type": "stream",
          "name": "stderr",
          "text": [
            "100%|██████████| 11/11 [00:33<00:00,  3.01s/it]\n"
          ]
        },
        {
          "output_type": "stream",
          "name": "stdout",
          "text": [
            "Alpha: 1.0, Threshold: 0.2378, Avg F1: 0.1828\n",
            "Best alpha: 0.50\n",
            "Finding optimal threshold...\n"
          ]
        },
        {
          "output_type": "stream",
          "name": "stderr",
          "text": [
            "100%|██████████| 35/35 [00:01<00:00, 29.97it/s]\n"
          ]
        },
        {
          "output_type": "stream",
          "name": "stdout",
          "text": [
            "Optimal threshold (EER): 0.4434\n",
            "\n",
            "Evaluating on test set...\n",
            "\n",
            "Test Set Results:\n",
            "\n",
            "Aggregate Metrics:\n",
            "Precision: 0.1801\n",
            "Recall: 0.7485\n",
            "F1 Score: 0.2311\n",
            "Accuracy: 0.5558\n",
            "IoU: 0.1493\n"
          ]
        },
        {
          "output_type": "display_data",
          "data": {
            "text/plain": [
              "<Figure size 1000x700 with 1 Axes>"
            ],
            "image/png": "[encoded data removed]"
          },
          "metadata": {}
        },
        {
          "output_type": "stream",
          "name": "stdout",
          "text": [
            "\n",
            "Chunk size: 1024\n",
            "Best alpha: 0.50\n",
            "Optimal threshold: 0.4434\n",
            "Test F1 score: 0.2311\n",
            "Datasets are loading...\n",
            "Train dataset size: 162\n",
            "Validation dataset size: 35\n",
            "Test dataset size: 35\n",
            "Tuning alpha parameter...\n"
          ]
        },
        {
          "output_type": "stream",
          "name": "stderr",
          "text": [
            "  9%|▉         | 1/11 [00:02<00:26,  2.68s/it]"
          ]
        },
        {
          "output_type": "stream",
          "name": "stdout",
          "text": [
            "Alpha: 0.0, Threshold: 0.7268, Avg F1: 0.1974\n"
          ]
        },
        {
          "output_type": "stream",
          "name": "stderr",
          "text": [
            "\r 18%|█▊        | 2/11 [00:05<00:24,  2.71s/it]"
          ]
        },
        {
          "output_type": "stream",
          "name": "stdout",
          "text": [
            "Alpha: 0.1, Threshold: 0.6757, Avg F1: 0.1946\n"
          ]
        },
        {
          "output_type": "stream",
          "name": "stderr",
          "text": [
            "\r 27%|██▋       | 3/11 [00:09<00:24,  3.12s/it]"
          ]
        },
        {
          "output_type": "stream",
          "name": "stdout",
          "text": [
            "Alpha: 0.2, Threshold: 0.6249, Avg F1: 0.1945\n"
          ]
        },
        {
          "output_type": "stream",
          "name": "stderr",
          "text": [
            "\r 36%|███▋      | 4/11 [00:11<00:20,  2.94s/it]"
          ]
        },
        {
          "output_type": "stream",
          "name": "stdout",
          "text": [
            "Alpha: 0.3, Threshold: 0.5807, Avg F1: 0.1953\n"
          ]
        },
        {
          "output_type": "stream",
          "name": "stderr",
          "text": [
            "\r 45%|████▌     | 5/11 [00:14<00:17,  2.85s/it]"
          ]
        },
        {
          "output_type": "stream",
          "name": "stdout",
          "text": [
            "Alpha: 0.4, Threshold: 0.5326, Avg F1: 0.1937\n"
          ]
        },
        {
          "output_type": "stream",
          "name": "stderr",
          "text": [
            "\r 55%|█████▍    | 6/11 [00:17<00:13,  2.79s/it]"
          ]
        },
        {
          "output_type": "stream",
          "name": "stdout",
          "text": [
            "Alpha: 0.5, Threshold: 0.4828, Avg F1: 0.1966\n"
          ]
        },
        {
          "output_type": "stream",
          "name": "stderr",
          "text": [
            "\r 64%|██████▎   | 7/11 [00:20<00:12,  3.03s/it]"
          ]
        },
        {
          "output_type": "stream",
          "name": "stdout",
          "text": [
            "Alpha: 0.6, Threshold: 0.4345, Avg F1: 0.1913\n"
          ]
        },
        {
          "output_type": "stream",
          "name": "stderr",
          "text": [
            "\r 73%|███████▎  | 8/11 [00:23<00:08,  2.92s/it]"
          ]
        },
        {
          "output_type": "stream",
          "name": "stdout",
          "text": [
            "Alpha: 0.7, Threshold: 0.3821, Avg F1: 0.1892\n"
          ]
        },
        {
          "output_type": "stream",
          "name": "stderr",
          "text": [
            "\r 82%|████████▏ | 9/11 [00:25<00:05,  2.85s/it]"
          ]
        },
        {
          "output_type": "stream",
          "name": "stdout",
          "text": [
            "Alpha: 0.8, Threshold: 0.3287, Avg F1: 0.1762\n"
          ]
        },
        {
          "output_type": "stream",
          "name": "stderr",
          "text": [
            "\r 91%|█████████ | 10/11 [00:28<00:02,  2.80s/it]"
          ]
        },
        {
          "output_type": "stream",
          "name": "stdout",
          "text": [
            "Alpha: 0.9, Threshold: 0.2790, Avg F1: 0.1724\n"
          ]
        },
        {
          "output_type": "stream",
          "name": "stderr",
          "text": [
            "100%|██████████| 11/11 [00:32<00:00,  2.92s/it]\n"
          ]
        },
        {
          "output_type": "stream",
          "name": "stdout",
          "text": [
            "Alpha: 1.0, Threshold: 0.2330, Avg F1: 0.1609\n",
            "Best alpha: 0.00\n",
            "Finding optimal threshold...\n"
          ]
        },
        {
          "output_type": "stream",
          "name": "stderr",
          "text": [
            "100%|██████████| 35/35 [00:01<00:00, 30.80it/s]\n"
          ]
        },
        {
          "output_type": "stream",
          "name": "stdout",
          "text": [
            "Optimal threshold (EER): 0.7268\n",
            "\n",
            "Evaluating on test set...\n",
            "\n",
            "Test Set Results:\n",
            "\n",
            "Aggregate Metrics:\n",
            "Precision: 0.1749\n",
            "Recall: 0.7485\n",
            "F1 Score: 0.2299\n",
            "Accuracy: 0.5431\n",
            "IoU: 0.1497\n"
          ]
        },
        {
          "output_type": "display_data",
          "data": {
            "text/plain": [
              "<Figure size 1000x700 with 1 Axes>"
            ],
            "image/png": "[encoded data removed]"
          },
          "metadata": {}
        },
        {
          "output_type": "stream",
          "name": "stdout",
          "text": [
            "\n",
            "Chunk size: 2048\n",
            "Best alpha: 0.00\n",
            "Optimal threshold: 0.7268\n",
            "Test F1 score: 0.2299\n"
          ]
        },
        {
          "output_type": "display_data",
          "data": {
            "text/plain": [
              "<Figure size 1400x600 with 1 Axes>"
            ],
            "image/png": "[encoded data removed]"
          },
          "metadata": {}
        }
      ]
    },
    {
      "cell_type": "code",
      "source": [],
      "metadata": {
        "id": "vaSAivlcRjTj"
      },
      "execution_count": null,
      "outputs": []
    }
  ]
}